{
 "cells": [
  {
   "cell_type": "code",
   "execution_count": null,
   "metadata": {},
   "outputs": [],
   "source": [
    "import pandas as pd\n",
    "from matplotlib import pyplot as plt\n",
    "\n",
    "%matplotlib inline\n",
    "life_expectancy = pd.read_table('./life_expectancy.csv', sep=',')\n",
    "\n",
    "life_expectancy"
   ]
  },
  {
   "cell_type": "markdown",
   "metadata": {},
   "source": [
    "### Exploratory Data Analysis"
   ]
  },
  {
   "cell_type": "markdown",
   "metadata": {},
   "source": [
    "There are 2938 data entries, with data in 22 columns including life expectancy for a given year in a country, demographic variables, income composition, mortality rates and immunizations."
   ]
  },
  {
   "cell_type": "code",
   "execution_count": null,
   "metadata": {},
   "outputs": [],
   "source": [
    "print(f\"Index: {life_expectancy.index} \\n\")\n",
    "print(f\"{life_expectancy.dtypes} \\n\")\n",
    "print(f\"Shape: {life_expectancy.shape}\")"
   ]
  },
  {
   "cell_type": "code",
   "execution_count": null,
   "metadata": {},
   "outputs": [],
   "source": [
    "life_expectancy['Status'] = life_expectancy['Status'].map({'Developed': 1, 'Developing': 0}) # change to numeric data\n",
    "\n",
    "country_map = {}\n",
    "count = 0\n",
    "for country in life_expectancy['Country'].unique():\n",
    "    count += 1\n",
    "    \n",
    "    country_map[country] = count\n",
    "    \n",
    "print(f\"Country mappings: {country_map}\")\n",
    "\n",
    "life_expectancy['Country'] = life_expectancy['Country'].map(country_map) # change to numeric data\n",
    "\n",
    "# remove empty spaces, upper case column names\n",
    "life_expectancy.rename(columns={\"under-five deaths\": \"under_five_deaths\",\"Schooling\": \"schooling\", \"Income composition of resources\": \"income_composition\", \" BMI \": \"bmi\", \" HIV/AIDS\": \"hiv_aids\", \" thinness  1-19 years\" : \"thinness_1_19\", \" thinness 5-9 years\": \"thinness_5_9\", \"Country\": \"country\", \"Year\": \"year\", \"Status\": \"developed\", \"Life expectancy \": \"life_expectancy\", \"Adult Mortality\": \"adult_mortality\", \"infant deaths\": \"infant_deaths\", \"Alcohol\": \"alcohol\", \"percentage expenditure\": \"percentage_exp\", \"Hepatitis B\": \"hep_b\", \"Measles \": \"measles\", \"Polio\": \"polio\", \"Total expenditure\": \"total_exp\", \"Diphtheria \": \"diphtheria\", \"GDP\": \"gdp\", \"Population\": \"population\"}, inplace=True)"
   ]
  },
  {
   "cell_type": "markdown",
   "metadata": {},
   "source": [
    "The data looks at 193 countries, 161 of which are developing and 32 developed. All countries have data from 2000 to 2015. 10 rows of data are missing from 10 different developing countries in 2013.\n",
    "\n",
    "Dropped all 10 missing entries for life expectancy as this is what we want to see whether the schooling feature has an impact."
   ]
  },
  {
   "cell_type": "code",
   "execution_count": null,
   "metadata": {},
   "outputs": [],
   "source": [
    "print(f\" Number of countries: {len(life_expectancy['country'].unique())}\")\n",
    "\n",
    "life_expectancy[life_expectancy['developed'] == 0].groupby('country').mean()\n",
    "life_expectancy[life_expectancy['developed'] == 1].groupby('country').mean()\n",
    "\n",
    "life_expectancy.duplicated().unique() # no duplicate entries found\n",
    "\n",
    "life_expectancy.groupby('year').mean() # all countries have data from 2000 - 2015. Some missing 2013\n",
    "\n",
    "life_expectancy[life_expectancy['life_expectancy'].isna()] # 10 rows from life_expectancy are missing"
   ]
  },
  {
   "cell_type": "code",
   "execution_count": null,
   "metadata": {},
   "outputs": [],
   "source": [
    "life_expectancy.dropna(subset=['life_expectancy'], inplace=True)\n",
    "life_expectancy.shape"
   ]
  },
  {
   "cell_type": "markdown",
   "metadata": {},
   "source": [
    "Schooling is the primary feature we want to see impacting the life expectancy of people in some way.\n",
    "\n",
    "Schooling has 163 missing values. 3 removed by life expectancy clean-up. The other 160 missing values, were missing for all years (2000 - 2015) across 10 different countries. As these countries are missing schooling data from all years, these 10 countries will be dropped as no value can be obtained for the primary feature at this point."
   ]
  },
  {
   "cell_type": "code",
   "execution_count": null,
   "metadata": {},
   "outputs": [],
   "source": [
    "life_expectancy['schooling'].isna().sum() # 160 missing values for schooling, additional 3 removed by life_expectancy clean up\n",
    "\n",
    "life_expectancy[life_expectancy['schooling'].isna()]\n",
    "life_expectancy[life_expectancy['schooling'].isna()].groupby('country').mean()\n",
    "\n",
    "life_expectancy.dropna(subset=['schooling'], inplace=True)"
   ]
  },
  {
   "cell_type": "markdown",
   "metadata": {},
   "source": [
    "#### General Insights\n",
    "\n",
    "2768 data entries\n",
    "\n",
    "On average life expectancy is 69.3, min 36.3 and max 89\n",
    "On average schooling 11.9 years, min 0 years and max 20.7 years\n",
    "\n",
    "On average life expectancy in a developed country is 79.2 and in a developing county is 67.4\n",
    "On average schooling in a developed country is 15.8 and in a developing county is 11.2\n",
    "\n",
    "On avg. country 85 (Japan) has highest le, country 1 (Afghanistan) has lowest le\n",
    "On avg. country 160 (South Sudan) has lowest schooling and country 8 (Australia) has highest\n",
    "\n",
    "On avg. 6 years schooling 47.9 and 20.7 years, 86\n",
    "On avg. at 55.2 year le you have 3.8 schooling and 82.8 you have 19.05\n",
    "\n",
    "Lowest life expectancy 36.3 - 8.6 years of schooling (however there is only one instance of this)\n",
    "Highest life expectancy 89.0 - 15+ to 20.3 years\n",
    "\n",
    "On avg. gone from 66.9 le in 2000 to 71.7 in 2015"
   ]
  },
  {
   "cell_type": "code",
   "execution_count": null,
   "metadata": {},
   "outputs": [],
   "source": [
    "life_expectancy.shape\n",
    "life_expectancy.describe()\n",
    "\n",
    "life_expectancy.groupby('developed')['life_expectancy'].mean()\n",
    "life_expectancy.groupby('developed')['schooling'].mean()\n",
    "\n",
    "life_expectancy.groupby('country')['life_expectancy'].mean().sort_values() # on avg. country 85 has highest le, country 1 has lowest le\n",
    "life_expectancy.groupby('country')['schooling'].mean().sort_values() # on avg. country 160 has lowest schooling and country 8 has highest\n",
    "\n",
    "life_expectancy.groupby('schooling')['life_expectancy'].mean().sort_values() # avg. 6 years schooling 47.9 and 20.7 years, 86\n",
    "life_expectancy.groupby('life_expectancy')['schooling'].mean().sort_values() # avg. at 55.2 year le you have 3.8 schooling and 82.8 you have 19.05\n",
    "\n",
    "life_expectancy['life_expectancy'].sort_values()\n",
    "life_expectancy.loc[life_expectancy['life_expectancy'] == 36.3] # lowest life expectancy - 8.6 years of schooling\n",
    "life_expectancy.loc[life_expectancy['life_expectancy'] == 89.0] # highest life expectancy - 15+ to 20.3 years\n",
    "\n",
    "# is it better now in 2015 than in 2000?\n",
    "life_expectancy.groupby('year')['life_expectancy'].mean() # avg. gone from 66.9 in 2000 to 71.7 in 2015"
   ]
  },
  {
   "cell_type": "markdown",
   "metadata": {},
   "source": [
    "There is a a positive correlation between schooling and life expectancy. However it is clear that schooling is not the only thing that impacts life expectancy as with 0 hours schooling there is a range of life expectancy from late 40s to mid 70s. It's also clear that there is a wide range of life expectancy's below around 14 years of schooling, but this does reduce the longer someone is in schooling for. The range is approx. 20 years in life expectancy."
   ]
  },
  {
   "cell_type": "code",
   "execution_count": null,
   "metadata": {},
   "outputs": [],
   "source": [
    "life_expectancy.corr() # 75% correlation between life expectancy and schooling"
   ]
  },
  {
   "cell_type": "code",
   "execution_count": null,
   "metadata": {},
   "outputs": [],
   "source": [
    "import seaborn as sns\n",
    "\n",
    "schooling_df = life_expectancy[['schooling', 'life_expectancy']].copy()\n",
    "sns.pairplot(schooling_df)"
   ]
  },
  {
   "cell_type": "code",
   "execution_count": null,
   "metadata": {},
   "outputs": [],
   "source": [
    "sns.lmplot(x='schooling', y='life_expectancy', data=schooling_df, aspect=1.5, scatter_kws={'alpha':0.2});"
   ]
  },
  {
   "cell_type": "markdown",
   "metadata": {},
   "source": [
    "#### General Clean-Up\n",
    "\n",
    "under five deaths and infant deaths - under five deaths includes infant deaths;\n",
    "thinness 1-19 and 5-9 - 1-19 include 5-9"
   ]
  },
  {
   "cell_type": "code",
   "execution_count": null,
   "metadata": {},
   "outputs": [],
   "source": [
    "life_expectancy.drop(['country', 'year', 'developed'], axis='columns', inplace=True)\n",
    "life_expectancy.drop(['thinness_5_9', 'infant_deaths'], axis='columns', inplace=True)"
   ]
  },
  {
   "cell_type": "markdown",
   "metadata": {},
   "source": [
    "#### Finding control variables\n",
    "\n",
    "Generally established that there is an association between schooling and association i.e. the more years attended at school the higher the life expectancy\n",
    "\n",
    "Need to find control variables that have a correlation with both our primary feature and predictor to be included in the linear regression model for analysis in order to remove variable bias. "
   ]
  },
  {
   "cell_type": "code",
   "execution_count": null,
   "metadata": {},
   "outputs": [],
   "source": [
    "life_expectancy.corr() "
   ]
  },
  {
   "cell_type": "code",
   "execution_count": null,
   "metadata": {},
   "outputs": [],
   "source": [
    "plt.figure(figsize = (16,16))\n",
    "\n",
    "sns.set_palette(\"coolwarm\", 7)\n",
    "sns.heatmap(life_expectancy.corr(), vmin=-1, vmax=1) "
   ]
  },
  {
   "cell_type": "markdown",
   "metadata": {},
   "source": [
    "Choosing adult mortality and income composition as the control features as they are correlated with both life expectancy and schooling (-0.6 and -0.4, 0.7 and 0.8, respectively).\n",
    "\n",
    "#### General Information\n",
    "\n",
    "New three features: Adult Mortality, Income Composition and Schooling;\n",
    "Predictor: Life expectancy"
   ]
  },
  {
   "cell_type": "code",
   "execution_count": null,
   "metadata": {},
   "outputs": [],
   "source": [
    "# adult Mortality Rates of both sexes (probability of dying between 15 and 60 years per 1000 population)\n",
    "life_expectancy['adult_mortality'].describe()"
   ]
  },
  {
   "cell_type": "code",
   "execution_count": null,
   "metadata": {},
   "outputs": [],
   "source": [
    "# human Development Index in terms of income composition of resources (index ranging from 0 to 1)\n",
    "# http://hdr.undp.org/en/content/human-development-index-hdi\n",
    "life_expectancy['income_composition'].describe()"
   ]
  },
  {
   "cell_type": "code",
   "execution_count": null,
   "metadata": {},
   "outputs": [],
   "source": [
    "# number of years of Schooling(years)\n",
    "life_expectancy['schooling'].describe()"
   ]
  },
  {
   "cell_type": "code",
   "execution_count": null,
   "metadata": {},
   "outputs": [],
   "source": [
    "# add new control features\n",
    "schooling_df['adult_mortality'] = life_expectancy['adult_mortality']\n",
    "schooling_df['income_composition'] = life_expectancy['income_composition']"
   ]
  },
  {
   "cell_type": "code",
   "execution_count": null,
   "metadata": {},
   "outputs": [],
   "source": [
    "fig, axs = plt.subplots(1, 3, sharey=True)\n",
    "\n",
    "schooling_df.plot(kind='scatter', x='adult_mortality', y='life_expectancy', ax=axs[0], figsize=(10, 6));\n",
    "schooling_df.plot(kind='scatter', x='income_composition', y='life_expectancy', ax=axs[1]);\n",
    "schooling_df.plot(kind='scatter', x='schooling', y='life_expectancy', ax=axs[2]);"
   ]
  },
  {
   "cell_type": "code",
   "execution_count": null,
   "metadata": {},
   "outputs": [],
   "source": [
    "sns.lmplot(x='adult_mortality', y='life_expectancy', data=schooling_df, aspect=1.5, scatter_kws={'alpha':0.2});"
   ]
  },
  {
   "cell_type": "code",
   "execution_count": null,
   "metadata": {},
   "outputs": [],
   "source": [
    "sns.lmplot(x='income_composition', y='life_expectancy', data=schooling_df, aspect=1.5, scatter_kws={'alpha':0.2});"
   ]
  },
  {
   "cell_type": "code",
   "execution_count": null,
   "metadata": {},
   "outputs": [],
   "source": [
    "fig, axs = plt.subplots(1, 2, sharey=True)\n",
    "\n",
    "schooling_df.plot(kind='scatter', x='adult_mortality', y='schooling', ax=axs[0], figsize=(10, 6));\n",
    "schooling_df.plot(kind='scatter', x='income_composition', y='schooling', ax=axs[1]);"
   ]
  },
  {
   "cell_type": "code",
   "execution_count": null,
   "metadata": {},
   "outputs": [],
   "source": [
    "schooling_df.corr()"
   ]
  },
  {
   "cell_type": "markdown",
   "metadata": {},
   "source": [
    "#### New Feature Clean-Up"
   ]
  },
  {
   "cell_type": "code",
   "execution_count": null,
   "metadata": {},
   "outputs": [],
   "source": [
    "schooling_df['adult_mortality'].isna().unique()"
   ]
  },
  {
   "cell_type": "code",
   "execution_count": null,
   "metadata": {},
   "outputs": [],
   "source": [
    "schooling_df['income_composition'].isna().unique()"
   ]
  },
  {
   "cell_type": "markdown",
   "metadata": {},
   "source": [
    "There are cofounders that aren't taken into consideration in this dataset such as homelessness which could effect both life expectancy and years of schooling.\n",
    "\n",
    "Features - Schooling, Adult Mortality and Income Composition\n",
    "Predictor - Life Expectancy\n",
    "\n",
    "Correlation of 75% between schooling and life_expectancy (Strong association) \n",
    "Consistent across different countries and different size populations\n",
    "Specifically looking at the years of schooling taken\n",
    "Logically as life expectancy increases it doesn't make sense that, that would increase someones years in schooling\n",
    "\n",
    "Missing data not at random - from 10 countries \n",
    "No class imbalance as there is a wide range of life expectancies"
   ]
  },
  {
   "cell_type": "markdown",
   "metadata": {},
   "source": [
    "###  Linear Regression Modelling"
   ]
  },
  {
   "cell_type": "markdown",
   "metadata": {},
   "source": [
    "Testing and training on the same data set.\n",
    "\n",
    "Regression Model fits the data to 73% - For the variation in life expectancy the features account for 73%\n",
    "With 0 income_comp, adult_mortality and schooling - life expectancy is 54.5 years old\n",
    "\n",
    "For every additional year of schooling the life expectancy of a person goes up 1.11 years\n",
    "\n",
    "RMSE is 4.8 years off considerably more accurate than the baseline at 9.3 years."
   ]
  },
  {
   "cell_type": "code",
   "execution_count": null,
   "metadata": {},
   "outputs": [],
   "source": [
    "from sklearn.linear_model import LinearRegression\n",
    "from sklearn import metrics\n",
    "import numpy as np\n",
    "\n",
    "feature_cols = ['income_composition', 'adult_mortality', 'schooling']\n",
    "X = schooling_df[feature_cols]\n",
    "y = schooling_df['life_expectancy']\n",
    "\n",
    "lr = LinearRegression()\n",
    "lr.fit(X, y)\n",
    "\n",
    "print(\"Score: \" + str(lr.score(X, y)))\n",
    "print(\"Intercept: \" + str(lr.intercept_))\n",
    "print(\"Coeff: \" + str(list(zip(feature_cols, lr.coef_))) + \"\\n\")\n",
    "\n",
    "y_pred_100_100 = lr.predict(X)\n",
    "print('MSE: ' + str(metrics.mean_squared_error(y, y_pred_100_100))) \n",
    "print('MAE: ' + str(metrics.mean_absolute_error(y, y_pred_100_100))) \n",
    "print('RMSE: ' + str(np.sqrt(metrics.mean_squared_error(y, y_pred_100_100)))) "
   ]
  },
  {
   "cell_type": "markdown",
   "metadata": {},
   "source": [
    "Create a baseline to compare too"
   ]
  },
  {
   "cell_type": "code",
   "execution_count": null,
   "metadata": {},
   "outputs": [],
   "source": [
    "schooling_df['life_expectancy'].mean()\n",
    "schooling_df['life_expectancy_pred'] = y_pred_100_100\n",
    "schooling_df['life_expectancy_base'] = schooling_df['life_expectancy'].mean()\n",
    "print('MSE: ' + str(metrics.mean_squared_error(y, schooling_df['life_expectancy_base']))) # model considerably better than baseline\n",
    "print('MAE: ' + str(metrics.mean_absolute_error(y, schooling_df['life_expectancy_base']))) \n",
    "print('RMSE: ' + str(np.sqrt(metrics.mean_squared_error(y, schooling_df['life_expectancy_base'])))) "
   ]
  },
  {
   "cell_type": "code",
   "execution_count": null,
   "metadata": {},
   "outputs": [],
   "source": [
    "sns.lmplot(x=\"schooling\", y=\"life_expectancy\", data=schooling_df)"
   ]
  },
  {
   "cell_type": "code",
   "execution_count": null,
   "metadata": {},
   "outputs": [],
   "source": [
    "sns.lmplot(x=\"schooling\", y=\"life_expectancy_pred\", data=schooling_df)"
   ]
  },
  {
   "cell_type": "code",
   "execution_count": null,
   "metadata": {},
   "outputs": [],
   "source": [
    "sns.lmplot(x=\"schooling\", y=\"life_expectancy_base\", data=schooling_df)"
   ]
  },
  {
   "cell_type": "markdown",
   "metadata": {},
   "source": [
    "#### Consider 70/30, 80/20 and 90/10 Test-Train splits"
   ]
  },
  {
   "cell_type": "code",
   "execution_count": null,
   "metadata": {},
   "outputs": [],
   "source": [
    "from sklearn.model_selection import train_test_split\n",
    "\n",
    "def run_prediction(X_test, y_test, X_train, y_train):\n",
    "    y_pred_test = lr.predict(X_test)\n",
    "    y_pred_train = lr.predict(X_train)\n",
    "    \n",
    "    y_null = np.zeros_like(y_test, dtype=float)\n",
    "    y_null.fill(y_test.mean())\n",
    "    \n",
    "    print(\"Train RMSE: \" + str(np.sqrt(metrics.mean_squared_error(y_train, y_pred_train))))\n",
    "    print(\"Test RMSE: \" + str(np.sqrt(metrics.mean_squared_error(y_test, y_pred_test))))\n",
    "    print(\"Base RMSE: \" + str(np.sqrt(metrics.mean_squared_error(y_test, y_null))))\n",
    "        \n",
    "    plt.scatter(X_test['schooling'], y_pred_test) # dark blue\n",
    "    plt.xlabel(\"Actual Schooling Years\")\n",
    "    plt.ylabel(\"Predicted Life expectancy\")\n",
    "    plt.title(\"Actual Schooling Years vs Predicted Life expectancy\")\n",
    "    \n",
    "    plt.scatter(X_train['schooling'], y_pred_train) # light blue\n",
    "    \n",
    "\n",
    "def run_test_train_split(test_size, train_size):\n",
    "    X_train, X_test, y_train, y_test = train_test_split(X, y, test_size=test_size, train_size=train_size, random_state=1)\n",
    "    lr = LinearRegression()\n",
    "    lr.fit(X_train, y_train)\n",
    "\n",
    "    print(\"Train Score: \" + str(lr.score(X_train, y_train)))\n",
    "    print(\"Test Score: \" + str(lr.score(X_test, y_test)))\n",
    "    print(\"Intercept: \" + str(lr.intercept_))\n",
    "    print(\"Coeff: \" + str(list(zip(feature_cols, lr.coef_))) + '\\n')\n",
    "    \n",
    "    run_prediction(X_test, y_test, X_train, y_train)"
   ]
  },
  {
   "cell_type": "markdown",
   "metadata": {},
   "source": [
    "Test-Train 70:30\n",
    "Fits slightly less on the test data 73.1% to 72.9% (Very close)\n",
    "Coeff: 0.9 year per additional schooling year\n",
    "Err slightly lower on test data 4.88 to 4.82\n",
    "Still better than baseline at 9.35 err\n",
    "\n",
    "Test-Tain 80:20\n",
    "Fits better on the test data 72% to 73%\n",
    "Coeff: 0.9 year per additional schooling year\n",
    "Err reduced on test data 4.9 to 4.8 \n",
    "Still better than baseline at 9.36 err\n",
    "\n",
    "Test-Tain 90:10\n",
    "Fits better on the train data 75% to 72% - slightly overfitted\n",
    "Coeff: 0.6 year per additional schooling year\n",
    "Err reduced on test data 4.68 to 4.85\n",
    "Still better than baseline at 9.37 err\n",
    "\n",
    "Lowest err on the test set is on the 80:20 split and the best fitted to the test data."
   ]
  },
  {
   "cell_type": "code",
   "execution_count": null,
   "metadata": {},
   "outputs": [],
   "source": [
    "run_test_train_split(0.7, 0.3)"
   ]
  },
  {
   "cell_type": "code",
   "execution_count": null,
   "metadata": {},
   "outputs": [],
   "source": [
    "run_test_train_split(0.8, 0.2)"
   ]
  },
  {
   "cell_type": "code",
   "execution_count": null,
   "metadata": {},
   "outputs": [],
   "source": [
    "run_test_train_split(0.9, 0.1)"
   ]
  },
  {
   "cell_type": "markdown",
   "metadata": {},
   "source": [
    "#### K-Fold Validation"
   ]
  },
  {
   "cell_type": "markdown",
   "metadata": {},
   "source": [
    "The best number of folds here is for 8-folds as it has the lowest error of 4.81 on average and has an average fit of 73%. Using Test-Tain split at 80:20 has a very similar result to the k-fold average."
   ]
  },
  {
   "cell_type": "code",
   "execution_count": null,
   "metadata": {},
   "outputs": [],
   "source": [
    "from sklearn import model_selection\n",
    "\n",
    "kf = model_selection.KFold(n_splits=8, shuffle=True, random_state=1) # manually update values 5 to 10\n",
    "rmse_values = []\n",
    "scores = []\n",
    "n = 0\n",
    "\n",
    "print(\"~~~~ CROSS VALIDATION each fold ~~~~\")\n",
    "for train_index, test_index in kf.split(X, y):\n",
    "    lr = LinearRegression().fit(X.iloc[train_index], y.iloc[train_index])\n",
    "    \n",
    "    rmse_values.append(np.sqrt(metrics.mean_squared_error(y.iloc[test_index], lr.predict(X.iloc[test_index]))))\n",
    "    scores.append(lr.score(X, y))\n",
    "    \n",
    "    n += 1\n",
    "    \n",
    "    print('Model {}'.format(n))\n",
    "    print('MSE: {}'.format(rmse_values[n-1]))\n",
    "    print('R2: {}\\n'.format(scores[n-1]))\n",
    "\n",
    "\n",
    "print(\"~~~~ SUMMARY OF CROSS VALIDATION ~~~~\")\n",
    "print('Mean of RMSE for all folds: {}'.format(np.mean(rmse_values)))\n",
    "print('Mean of R2 for all folds: {}'.format(np.mean(scores)))"
   ]
  },
  {
   "cell_type": "markdown",
   "metadata": {},
   "source": [
    "#### Removing Outliers\n",
    "\n",
    "Looking at the Scatter Graph the outliers here appear to be the points at schooling at 0 years and life_expectancy at 35 with shooling of 8 years."
   ]
  },
  {
   "cell_type": "code",
   "execution_count": null,
   "metadata": {},
   "outputs": [],
   "source": [
    "sns.lmplot(x=\"schooling\", y=\"life_expectancy\", data=schooling_df)"
   ]
  },
  {
   "cell_type": "code",
   "execution_count": null,
   "metadata": {},
   "outputs": [],
   "source": [
    "schooling_df.drop(['life_expectancy_pred', 'life_expectancy_base'], axis='columns', inplace=True)"
   ]
  },
  {
   "cell_type": "code",
   "execution_count": null,
   "metadata": {},
   "outputs": [],
   "source": [
    "from scipy import stats\n",
    "schooling_df[(np.abs(stats.zscore(schooling_df)) < 4).all(axis=1)] # remove anything below the threshhold of the z-score for each col"
   ]
  },
  {
   "cell_type": "code",
   "execution_count": null,
   "metadata": {},
   "outputs": [],
   "source": [
    "run_test_train_split(0.8, 0.2) # no significant impact"
   ]
  },
  {
   "cell_type": "code",
   "execution_count": null,
   "metadata": {},
   "outputs": [],
   "source": []
  }
 ],
 "metadata": {
  "kernelspec": {
   "display_name": "Python 3",
   "language": "python",
   "name": "python3"
  },
  "language_info": {
   "codemirror_mode": {
    "name": "ipython",
    "version": 3
   },
   "file_extension": ".py",
   "mimetype": "text/x-python",
   "name": "python",
   "nbconvert_exporter": "python",
   "pygments_lexer": "ipython3",
   "version": "3.8.5"
  }
 },
 "nbformat": 4,
 "nbformat_minor": 4
}
