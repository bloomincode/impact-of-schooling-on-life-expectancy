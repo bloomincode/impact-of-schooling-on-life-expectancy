{
 "cells": [
  {
   "cell_type": "code",
   "execution_count": null,
   "metadata": {},
   "outputs": [],
   "source": [
    "import pandas as pd\n",
    "from matplotlib import pyplot as plt\n",
    "\n",
    "%matplotlib inline\n",
    "life_expectancy = pd.read_table('./life_expectancy.csv', sep=',')\n",
    "\n",
    "life_expectancy"
   ]
  },
  {
   "cell_type": "markdown",
   "metadata": {},
   "source": [
    "### Exploratory Data Analysis"
   ]
  },
  {
   "cell_type": "markdown",
   "metadata": {},
   "source": [
    "There are 2938 data entries, with data in 22 columns including life expectancy for a given year in a country, demographic variables, income composition, mortality rates and immunizations."
   ]
  },
  {
   "cell_type": "code",
   "execution_count": null,
   "metadata": {},
   "outputs": [],
   "source": [
    "print(f\"Index: {life_expectancy.index} \\n\")\n",
    "print(f\"{life_expectancy.dtypes} \\n\")\n",
    "print(f\"Shape: {life_expectancy.shape}\")"
   ]
  },
  {
   "cell_type": "code",
   "execution_count": null,
   "metadata": {},
   "outputs": [],
   "source": [
    "life_expectancy['Status'] = life_expectancy['Status'].map({'Developed': 1, 'Developing': 0}) # change to numeric data\n",
    "\n",
    "country_map = {}\n",
    "count = 0\n",
    "for country in life_expectancy['Country'].unique():\n",
    "    count += 1\n",
    "    \n",
    "    country_map[country] = count\n",
    "    \n",
    "print(f\"Country mappings: {country_map}\")\n",
    "\n",
    "life_expectancy['Country'] = life_expectancy['Country'].map(country_map) # change to numeric data\n",
    "\n",
    "# remove empty spaces, upper case column names\n",
    "life_expectancy.rename(columns={\"under-five deaths\": \"under_five_deaths\",\"Schooling\": \"schooling\", \"Income composition of resources\": \"income_composition\", \" BMI \": \"bmi\", \" HIV/AIDS\": \"hiv_aids\", \" thinness  1-19 years\" : \"thinness_1_19\", \" thinness 5-9 years\": \"thinness_5_9\", \"Country\": \"country\", \"Year\": \"year\", \"Status\": \"developed\", \"Life expectancy \": \"life_expectancy\", \"Adult Mortality\": \"adult_mortality\", \"infant deaths\": \"infant_deaths\", \"Alcohol\": \"alcohol\", \"percentage expenditure\": \"percentage_exp\", \"Hepatitis B\": \"hep_b\", \"Measles \": \"measles\", \"Polio\": \"polio\", \"Total expenditure\": \"total_exp\", \"Diphtheria \": \"diphtheria\", \"GDP\": \"gdp\", \"Population\": \"population\"}, inplace=True)"
   ]
  },
  {
   "cell_type": "markdown",
   "metadata": {},
   "source": [
    "The data looks at 193 countries, 161 of which are developing and 32 developed. All countries have data from 2000 to 2015. 10 rows of data are missing from 10 different developing countries in 2013.\n",
    "\n",
    "Dropped all 10 missing entries for life expectancy as this is what we want to see whether the schooling feature has an impact."
   ]
  },
  {
   "cell_type": "code",
   "execution_count": null,
   "metadata": {},
   "outputs": [],
   "source": [
    "print(f\" Number of countries: {len(life_expectancy['country'].unique())}\")\n",
    "\n",
    "life_expectancy[life_expectancy['developed'] == 0].groupby('country').mean()\n",
    "life_expectancy[life_expectancy['developed'] == 1].groupby('country').mean()\n",
    "\n",
    "life_expectancy.duplicated().unique() # no duplicate entries found\n",
    "\n",
    "life_expectancy.groupby('year').mean() # all countries have data from 2000 - 2015. Some missing 2013\n",
    "\n",
    "life_expectancy[life_expectancy['life_expectancy'].isna()] # 10 rows from life_expectancy are missing"
   ]
  },
  {
   "cell_type": "code",
   "execution_count": null,
   "metadata": {},
   "outputs": [],
   "source": [
    "life_expectancy.dropna(subset=['life_expectancy'], inplace=True)\n",
    "life_expectancy.shape"
   ]
  },
  {
   "cell_type": "markdown",
   "metadata": {},
   "source": [
    "Schooling is the primary feature we want to see impacting the life expectancy of people in some way.\n",
    "\n",
    "Schooling has 163 missing values. 3 removed by life expectancy clean-up. The other 160 missing values, were missing for all years (2000 - 2015) across 10 different countries. As these countries are missing schooling data from all years, these 10 countries will be dropped as no value can be obtained for the primary feature at this point."
   ]
  },
  {
   "cell_type": "code",
   "execution_count": null,
   "metadata": {},
   "outputs": [],
   "source": [
    "life_expectancy['schooling'].isna().sum() # 160 missing values for schooling, additional 3 removed by life_expectancy clean up\n",
    "\n",
    "unknown_schooling_exp = life_expectancy[life_expectancy['schooling'].isna()].copy()\n",
    "life_expectancy[life_expectancy['schooling'].isna()].groupby('country').mean()\n",
    "\n",
    "life_expectancy.dropna(subset=['schooling'], inplace=True)"
   ]
  },
  {
   "cell_type": "markdown",
   "metadata": {},
   "source": [
    "#### General Insights\n",
    "\n",
    "2768 data entries\n",
    "\n",
    "On average life expectancy is 69.3, min 36.3 and max 89\n",
    "On average schooling 11.9 years, min 0 years and max 20.7 years\n",
    "\n",
    "On average life expectancy in a developed country is 79.2 and in a developing county is 67.4\n",
    "On average schooling in a developed country is 15.8 and in a developing county is 11.2\n",
    "\n",
    "On avg. country 85 (Japan) has highest le, country 1 (Afghanistan) has lowest le\n",
    "On avg. country 160 (South Sudan) has lowest schooling and country 8 (Australia) has highest\n",
    "\n",
    "On avg. 6 years schooling 47.9 and 20.7 years, 86\n",
    "On avg. at 55.2 year le you have 3.8 schooling and 82.8 you have 19.05\n",
    "\n",
    "Lowest life expectancy 36.3 - 8.6 years of schooling (however there is only one instance of this)\n",
    "Highest life expectancy 89.0 - 15+ to 20.3 years\n",
    "\n",
    "On avg. gone from 66.9 le in 2000 to 71.7 in 2015"
   ]
  },
  {
   "cell_type": "code",
   "execution_count": null,
   "metadata": {},
   "outputs": [],
   "source": [
    "life_expectancy.shape\n",
    "life_expectancy.describe()\n",
    "\n",
    "life_expectancy.groupby('developed')['life_expectancy'].mean()\n",
    "life_expectancy.groupby('developed')['schooling'].mean()\n",
    "\n",
    "life_expectancy.groupby('country')['life_expectancy'].mean().sort_values() # on avg. country 85 has highest le, country 1 has lowest le\n",
    "life_expectancy.groupby('country')['schooling'].mean().sort_values() # on avg. country 160 has lowest schooling and country 8 has highest\n",
    "\n",
    "life_expectancy.groupby('schooling')['life_expectancy'].mean().sort_values() # avg. 6 years schooling 47.9 and 20.7 years, 86\n",
    "life_expectancy.groupby('life_expectancy')['schooling'].mean().sort_values() # avg. at 55.2 year le you have 3.8 schooling and 82.8 you have 19.05\n",
    "\n",
    "life_expectancy['life_expectancy'].sort_values()\n",
    "life_expectancy.loc[life_expectancy['life_expectancy'] == 36.3] # lowest life expectancy - 8.6 years of schooling\n",
    "life_expectancy.loc[life_expectancy['life_expectancy'] == 89.0] # highest life expectancy - 15+ to 20.3 years\n",
    "\n",
    "# is it better now in 2015 than in 2000?\n",
    "life_expectancy.groupby('year')['life_expectancy'].mean() # avg. gone from 66.9 in 2000 to 71.7 in 2015"
   ]
  },
  {
   "cell_type": "markdown",
   "metadata": {},
   "source": [
    "There is a a positive correlation between schooling and life expectancy. However it is clear that schooling is not the only thing that impacts life expectancy as with 0 hours schooling there is a range of life expectancy from late 40s to mid 70s. It's also clear that there is a wide range of life expectancy's below around 14 years of schooling, but this does reduce the longer someone is in schooling for. The range is approx. 20 years in life expectancy."
   ]
  },
  {
   "cell_type": "code",
   "execution_count": null,
   "metadata": {},
   "outputs": [],
   "source": [
    "life_expectancy.corr() # 75% correlation between life expectancy and schooling"
   ]
  },
  {
   "cell_type": "code",
   "execution_count": null,
   "metadata": {},
   "outputs": [],
   "source": [
    "import seaborn as sns\n",
    "\n",
    "schooling_df = life_expectancy[['schooling', 'life_expectancy']].copy()\n",
    "sns.pairplot(schooling_df)"
   ]
  },
  {
   "cell_type": "code",
   "execution_count": null,
   "metadata": {},
   "outputs": [],
   "source": [
    "sns.lmplot(x='schooling', y='life_expectancy', data=schooling_df, aspect=1.5, scatter_kws={'alpha':0.2});"
   ]
  },
  {
   "cell_type": "markdown",
   "metadata": {},
   "source": [
    "#### General Clean-Up\n",
    "\n",
    "under five deaths and infant deaths - under five deaths includes infant deaths;\n",
    "thinness 1-19 and 5-9 - 1-19 include 5-9"
   ]
  },
  {
   "cell_type": "code",
   "execution_count": null,
   "metadata": {},
   "outputs": [],
   "source": [
    "life_expectancy.drop(['thinness_5_9', 'infant_deaths'], axis='columns', inplace=True)"
   ]
  },
  {
   "cell_type": "markdown",
   "metadata": {},
   "source": [
    "#### Finding control variables\n",
    "\n",
    "Generally established that there is an association between schooling and association i.e. the more years attended at school the higher the life expectancy\n",
    "\n",
    "Need to find control variables that have a correlation with both our primary feature and predictor to be included in the linear regression model for analysis in order to remove variable bias. "
   ]
  },
  {
   "cell_type": "code",
   "execution_count": null,
   "metadata": {},
   "outputs": [],
   "source": [
    "life_expectancy.corr() "
   ]
  },
  {
   "cell_type": "code",
   "execution_count": null,
   "metadata": {},
   "outputs": [],
   "source": [
    "plt.figure(figsize = (16,16))\n",
    "\n",
    "sns.set_palette(\"coolwarm\", 7)\n",
    "sns.heatmap(life_expectancy.corr(), vmin=-1, vmax=1) "
   ]
  },
  {
   "cell_type": "markdown",
   "metadata": {},
   "source": [
    "Choosing adult mortality and income composition as the control features as they are correlated with both life expectancy and schooling (-0.6 and -0.4, 0.7 and 0.8, respectively).\n",
    "\n",
    "#### General Information\n",
    "\n",
    "New three features: Adult Mortality, Income Composition and Schooling;\n",
    "Predictor: Life expectancy"
   ]
  },
  {
   "cell_type": "code",
   "execution_count": null,
   "metadata": {},
   "outputs": [],
   "source": [
    "# adult Mortality Rates of both sexes (probability of dying between 15 and 60 years per 1000 population)\n",
    "life_expectancy['adult_mortality'].describe()"
   ]
  },
  {
   "cell_type": "code",
   "execution_count": null,
   "metadata": {},
   "outputs": [],
   "source": [
    "# human Development Index in terms of income composition of resources (index ranging from 0 to 1)\n",
    "# http://hdr.undp.org/en/content/human-development-index-hdi\n",
    "life_expectancy['income_composition'].describe()"
   ]
  },
  {
   "cell_type": "code",
   "execution_count": null,
   "metadata": {},
   "outputs": [],
   "source": [
    "# number of years of Schooling(years)\n",
    "life_expectancy['schooling'].describe()"
   ]
  },
  {
   "cell_type": "code",
   "execution_count": null,
   "metadata": {},
   "outputs": [],
   "source": [
    "# add new control features\n",
    "schooling_df['adult_mortality'] = life_expectancy['adult_mortality']\n",
    "schooling_df['income_composition'] = life_expectancy['income_composition']"
   ]
  },
  {
   "cell_type": "code",
   "execution_count": null,
   "metadata": {},
   "outputs": [],
   "source": [
    "fig, axs = plt.subplots(1, 3, sharey=True)\n",
    "\n",
    "schooling_df.plot(kind='scatter', x='adult_mortality', y='life_expectancy', ax=axs[0], figsize=(10, 6));\n",
    "schooling_df.plot(kind='scatter', x='income_composition', y='life_expectancy', ax=axs[1]);\n",
    "schooling_df.plot(kind='scatter', x='schooling', y='life_expectancy', ax=axs[2]);"
   ]
  },
  {
   "cell_type": "code",
   "execution_count": null,
   "metadata": {},
   "outputs": [],
   "source": [
    "sns.lmplot(x='adult_mortality', y='life_expectancy', data=schooling_df, aspect=1.5, scatter_kws={'alpha':0.2});"
   ]
  },
  {
   "cell_type": "code",
   "execution_count": null,
   "metadata": {},
   "outputs": [],
   "source": [
    "sns.lmplot(x='income_composition', y='life_expectancy', data=schooling_df, aspect=1.5, scatter_kws={'alpha':0.2});"
   ]
  },
  {
   "cell_type": "code",
   "execution_count": null,
   "metadata": {},
   "outputs": [],
   "source": [
    "fig, axs = plt.subplots(1, 2, sharey=True)\n",
    "\n",
    "schooling_df.plot(kind='scatter', x='adult_mortality', y='schooling', ax=axs[0], figsize=(10, 6));\n",
    "schooling_df.plot(kind='scatter', x='income_composition', y='schooling', ax=axs[1]);"
   ]
  },
  {
   "cell_type": "code",
   "execution_count": null,
   "metadata": {},
   "outputs": [],
   "source": [
    "schooling_df.corr()"
   ]
  },
  {
   "cell_type": "markdown",
   "metadata": {},
   "source": [
    "#### New Feature Clean-Up"
   ]
  },
  {
   "cell_type": "code",
   "execution_count": null,
   "metadata": {},
   "outputs": [],
   "source": [
    "schooling_df['adult_mortality'].isna().unique()"
   ]
  },
  {
   "cell_type": "code",
   "execution_count": null,
   "metadata": {},
   "outputs": [],
   "source": [
    "schooling_df['income_composition'].isna().unique()"
   ]
  },
  {
   "cell_type": "markdown",
   "metadata": {},
   "source": [
    "There are cofounders that aren't taken into consideration in this dataset such as homelessness which could effect both life expectancy and years of schooling.\n",
    "\n",
    "Features - Schooling, Adult Mortality and Income Composition\n",
    "Predictor - Life Expectancy\n",
    "\n",
    "Correlation of 75% between schooling and life_expectancy (Strong association) \n",
    "Consistent across different countries and different size populations\n",
    "Specifically looking at the years of schooling taken\n",
    "Logically as life expectancy increases it doesn't make sense that, that would increase someones years in schooling\n",
    "\n",
    "Missing data not at random - from 10 countries \n",
    "No class imbalance as there is a wide range of life expectancies"
   ]
  },
  {
   "cell_type": "markdown",
   "metadata": {},
   "source": [
    "###  Linear Regression Modelling"
   ]
  },
  {
   "cell_type": "markdown",
   "metadata": {},
   "source": [
    "Testing and training on the same data set.\n",
    "\n",
    "Regression Model fits the data to 73% - For the variation in life expectancy the features account for 73%\n",
    "With 0 income_comp, adult_mortality and schooling - life expectancy is 54.5 years old\n",
    "\n",
    "For every additional year of schooling the life expectancy of a person goes up 1.11 years\n",
    "\n",
    "RMSE is 4.8 years off considerably more accurate than the baseline at 9.3 years."
   ]
  },
  {
   "cell_type": "code",
   "execution_count": null,
   "metadata": {},
   "outputs": [],
   "source": [
    "from sklearn.linear_model import LinearRegression\n",
    "from sklearn import metrics\n",
    "import numpy as np"
   ]
  },
  {
   "cell_type": "code",
   "execution_count": null,
   "metadata": {},
   "outputs": [],
   "source": [
    "feature_cols = ['income_composition', 'adult_mortality', 'schooling']\n",
    "\n",
    "def run_linreg():\n",
    "    X = schooling_df[feature_cols]\n",
    "    y = schooling_df['life_expectancy']\n",
    "\n",
    "    lr = LinearRegression()\n",
    "    lr.fit(X, y)\n",
    "\n",
    "    print(\"Score: \" + str(lr.score(X, y)))\n",
    "    print(\"Intercept: \" + str(lr.intercept_))\n",
    "    print(\"Coeff: \" + str(list(zip(feature_cols, lr.coef_))) + \"\\n\")\n",
    "\n",
    "    y_pred_100_100 = lr.predict(X)\n",
    "    print('MSE: ' + str(metrics.mean_squared_error(y, y_pred_100_100))) \n",
    "    print('MAE: ' + str(metrics.mean_absolute_error(y, y_pred_100_100))) \n",
    "    print('RMSE: ' + str(np.sqrt(metrics.mean_squared_error(y, y_pred_100_100))))\n",
    "    \n",
    "    #Create a baseline to compare too\n",
    "    schooling_df['life_expectancy'].mean()\n",
    "    schooling_df['life_expectancy_pred'] = y_pred_100_100\n",
    "    schooling_df['life_expectancy_base'] = schooling_df['life_expectancy'].mean()\n",
    "    \n",
    "    print('Baseline MSE: ' + str(metrics.mean_squared_error(y, schooling_df['life_expectancy_base']))) # model considerably better than baseline\n",
    "    print('Baseline MAE: ' + str(metrics.mean_absolute_error(y, schooling_df['life_expectancy_base']))) \n",
    "    print('Baseline RMSE: ' + str(np.sqrt(metrics.mean_squared_error(y, schooling_df['life_expectancy_base'])))) "
   ]
  },
  {
   "cell_type": "code",
   "execution_count": null,
   "metadata": {},
   "outputs": [],
   "source": [
    "run_linreg()"
   ]
  },
  {
   "cell_type": "code",
   "execution_count": null,
   "metadata": {},
   "outputs": [],
   "source": [
    "sns.lmplot(x=\"schooling\", y=\"life_expectancy\", data=schooling_df)"
   ]
  },
  {
   "cell_type": "code",
   "execution_count": null,
   "metadata": {},
   "outputs": [],
   "source": [
    "sns.lmplot(x=\"schooling\", y=\"life_expectancy_pred\", data=schooling_df)"
   ]
  },
  {
   "cell_type": "code",
   "execution_count": null,
   "metadata": {},
   "outputs": [],
   "source": [
    "sns.lmplot(x=\"schooling\", y=\"life_expectancy_base\", data=schooling_df)"
   ]
  },
  {
   "cell_type": "markdown",
   "metadata": {},
   "source": [
    "#### Consider 70/30, 80/20 and 90/10 Test-Train splits"
   ]
  },
  {
   "cell_type": "code",
   "execution_count": null,
   "metadata": {},
   "outputs": [],
   "source": [
    "from sklearn.model_selection import train_test_split\n",
    "\n",
    "def run_prediction(X_test, y_test, X_train, y_train, lr):\n",
    "    y_pred_test = lr.predict(X_test)\n",
    "    y_pred_train = lr.predict(X_train)\n",
    "    \n",
    "    y_null = np.zeros_like(y_test, dtype=float)\n",
    "    y_null.fill(y_test.mean())\n",
    "    \n",
    "    print(\"Train RMSE: \" + str(np.sqrt(metrics.mean_squared_error(y_train, y_pred_train))))\n",
    "    print(\"Test RMSE: \" + str(np.sqrt(metrics.mean_squared_error(y_test, y_pred_test))))\n",
    "    print(\"Base RMSE: \" + str(np.sqrt(metrics.mean_squared_error(y_test, y_null))))\n",
    "        \n",
    "    plt.scatter(X_test['schooling'], y_pred_test) # dark blue\n",
    "    plt.xlabel(\"Actual Schooling Years\")\n",
    "    plt.ylabel(\"Predicted Life expectancy\")\n",
    "    plt.title(\"Actual Schooling Years vs Predicted Life expectancy\")\n",
    "    \n",
    "    plt.scatter(X_train['schooling'], y_pred_train) # light blue\n",
    "    \n",
    "\n",
    "def run_test_train_split(test_size, train_size):\n",
    "    X = schooling_df[feature_cols]\n",
    "    y = schooling_df['life_expectancy']\n",
    "    X_train, X_test, y_train, y_test = train_test_split(X, y, test_size=test_size, train_size=train_size, random_state=1)\n",
    "    lr = LinearRegression()\n",
    "    lr.fit(X_train, y_train)\n",
    "\n",
    "    print(\"Train Score: \" + str(lr.score(X_train, y_train)))\n",
    "    print(\"Test Score: \" + str(lr.score(X_test, y_test)))\n",
    "    print(\"Intercept: \" + str(lr.intercept_))\n",
    "    print(\"Coeff: \" + str(list(zip(feature_cols, lr.coef_))) + '\\n')\n",
    "    \n",
    "    run_prediction(X_test, y_test, X_train, y_train, lr)"
   ]
  },
  {
   "cell_type": "markdown",
   "metadata": {},
   "source": [
    "Test-Train 70:30\n",
    "Fits slightly less on the test data 73.1% to 72.9% (Very close)\n",
    "Coeff: 0.9 year per additional schooling year\n",
    "Err slightly lower on test data 4.88 to 4.82\n",
    "Still better than baseline at 9.35 err\n",
    "\n",
    "Test-Tain 80:20\n",
    "Fits better on the test data 72% to 73%\n",
    "Coeff: 0.9 year per additional schooling year\n",
    "Err reduced on test data 4.9 to 4.8 \n",
    "Still better than baseline at 9.36 err\n",
    "\n",
    "Test-Tain 90:10\n",
    "Fits better on the train data 75% to 72% - slightly overfitted\n",
    "Coeff: 0.6 year per additional schooling year\n",
    "Err reduced on test data 4.68 to 4.85\n",
    "Still better than baseline at 9.37 err\n",
    "\n",
    "Lowest err on the test set is on the 80:20 split and the best fitted to the test data."
   ]
  },
  {
   "cell_type": "code",
   "execution_count": null,
   "metadata": {},
   "outputs": [],
   "source": [
    "run_test_train_split(0.7, 0.3)"
   ]
  },
  {
   "cell_type": "code",
   "execution_count": null,
   "metadata": {},
   "outputs": [],
   "source": [
    "run_test_train_split(0.8, 0.2)"
   ]
  },
  {
   "cell_type": "code",
   "execution_count": null,
   "metadata": {},
   "outputs": [],
   "source": [
    "run_test_train_split(0.9, 0.1)"
   ]
  },
  {
   "cell_type": "markdown",
   "metadata": {},
   "source": [
    "#### K-Fold Validation"
   ]
  },
  {
   "cell_type": "markdown",
   "metadata": {},
   "source": [
    "The best number of folds here is for 8-folds as it has the lowest error of 4.81 on average and has an average fit of 73%. Using Test-Tain split at 80:20 has a very similar result to the k-fold average."
   ]
  },
  {
   "cell_type": "code",
   "execution_count": null,
   "metadata": {},
   "outputs": [],
   "source": [
    "from sklearn import model_selection\n",
    "\n",
    "kf = model_selection.KFold(n_splits=8, shuffle=True, random_state=1) # manually update values 5 to 10\n",
    "rmse_values = []\n",
    "scores = []\n",
    "n = 0\n",
    "X = schooling_df[feature_cols]\n",
    "y = schooling_df['life_expectancy']\n",
    "\n",
    "print(\"~~~~ CROSS VALIDATION each fold ~~~~\")\n",
    "for train_index, test_index in kf.split(X, y):\n",
    "    lr = LinearRegression().fit(X.iloc[train_index], y.iloc[train_index])\n",
    "    \n",
    "    rmse_values.append(np.sqrt(metrics.mean_squared_error(y.iloc[test_index], lr.predict(X.iloc[test_index]))))\n",
    "    scores.append(lr.score(X, y))\n",
    "    \n",
    "    n += 1\n",
    "    \n",
    "    print('Model {}'.format(n))\n",
    "    print('MSE: {}'.format(rmse_values[n-1]))\n",
    "    print('R2: {}\\n'.format(scores[n-1]))\n",
    "\n",
    "\n",
    "print(\"~~~~ SUMMARY OF CROSS VALIDATION ~~~~\")\n",
    "print('Mean of RMSE for all folds: {}'.format(np.mean(rmse_values)))\n",
    "print('Mean of R2 for all folds: {}'.format(np.mean(scores)))"
   ]
  },
  {
   "cell_type": "markdown",
   "metadata": {},
   "source": [
    "#### Removing Outliers\n",
    "\n",
    "Looking at the Scatter Graph the outliers here appear to be the points at schooling at 0 years and life_expectancy at 35 with shooling of 8 years."
   ]
  },
  {
   "cell_type": "code",
   "execution_count": null,
   "metadata": {},
   "outputs": [],
   "source": [
    "sns.lmplot(x=\"schooling\", y=\"life_expectancy\", data=schooling_df)"
   ]
  },
  {
   "cell_type": "code",
   "execution_count": null,
   "metadata": {},
   "outputs": [],
   "source": [
    "schooling_df.drop(['life_expectancy_pred', 'life_expectancy_base'], axis='columns', inplace=True)"
   ]
  },
  {
   "cell_type": "code",
   "execution_count": null,
   "metadata": {},
   "outputs": [],
   "source": [
    "from scipy import stats\n",
    "schooling_df[(np.abs(stats.zscore(schooling_df)) < 4).all(axis=1)] # remove anything below the threshhold of the z-score for each col"
   ]
  },
  {
   "cell_type": "code",
   "execution_count": null,
   "metadata": {},
   "outputs": [],
   "source": [
    "run_test_train_split(0.8, 0.2) # no significant impact"
   ]
  },
  {
   "cell_type": "markdown",
   "metadata": {},
   "source": [
    "### Imputation of School Data using Classification"
   ]
  },
  {
   "cell_type": "markdown",
   "metadata": {},
   "source": [
    "I've created ranges that fit into the schooling data quartiles to provide a category for the missing schooling data to be predicted into. "
   ]
  },
  {
   "cell_type": "code",
   "execution_count": null,
   "metadata": {},
   "outputs": [],
   "source": [
    "cluster_df = life_expectancy.copy()\n",
    "cluster_df.shape\n",
    "cluster_df['schooling'].unique()\n",
    "cluster_df['schooling'].describe()"
   ]
  },
  {
   "cell_type": "code",
   "execution_count": null,
   "metadata": {},
   "outputs": [],
   "source": [
    "mask_1 = (cluster_df['schooling'] >= 0) & (cluster_df['schooling'] < 10.1)\n",
    "mask_2 = (cluster_df['schooling'] >= 10.1) & (cluster_df['schooling'] < 12.3)\n",
    "mask_3 = (cluster_df['schooling'] >= 12.3) & (cluster_df['schooling'] < 14.3)\n",
    "mask_4 = (cluster_df['schooling'] >= 14.3) & (cluster_df['schooling'] < 20.7)\n",
    "mask_5 = cluster_df['schooling'] >= 20.7"
   ]
  },
  {
   "cell_type": "code",
   "execution_count": null,
   "metadata": {},
   "outputs": [],
   "source": [
    "cluster_df['schooling_num'] = pd.Series()\n",
    "cluster_df['schooling_num'].mask(mask_1, 0, inplace=True)\n",
    "cluster_df['schooling_num'].mask(mask_2, 1, inplace=True)\n",
    "cluster_df['schooling_num'].mask(mask_3, 2, inplace=True)\n",
    "cluster_df['schooling_num'].mask(mask_4, 3, inplace=True)\n",
    "cluster_df['schooling_num'].mask(mask_5, 4, inplace=True)"
   ]
  },
  {
   "cell_type": "markdown",
   "metadata": {},
   "source": [
    "Progress with looking at EDA specifically for the classification model. Using the ranges for schooling, its clearer to see that life_expectancy increases with each quartile. Manually looking at the developed value for each schooling range because its a binary value and the average here doesn't make much sense. The developed category also looks like an ideal feature for schooling as there are more and more developed countries that have a higher amount of schooling, whereas as the schooling years increase, the amount of developing countries that have that amount of schooling are decreasing."
   ]
  },
  {
   "cell_type": "code",
   "execution_count": null,
   "metadata": {},
   "outputs": [],
   "source": [
    "cluster_df.groupby('schooling_num').mean() # life_expectancy average increases with schooling num"
   ]
  },
  {
   "cell_type": "code",
   "execution_count": null,
   "metadata": {},
   "outputs": [],
   "source": [
    "# Developed looks like a good feature to categories schooling by\n",
    "\n",
    "print(cluster_df[cluster_df['schooling_num'] == 1]['developed'].value_counts())\n",
    "print(cluster_df[cluster_df['schooling_num'] == 2]['developed'].value_counts())\n",
    "print(cluster_df[cluster_df['schooling_num'] == 3]['developed'].value_counts())\n",
    "print(cluster_df[cluster_df['schooling_num'] == 4]['developed'].value_counts())"
   ]
  },
  {
   "cell_type": "code",
   "execution_count": null,
   "metadata": {},
   "outputs": [],
   "source": [
    "# Taking a look at which other features make sense to categorise by\n",
    "cluster_df.corr() # income composition and life expectancy have high correlations with schooling and eachother"
   ]
  },
  {
   "cell_type": "code",
   "execution_count": null,
   "metadata": {},
   "outputs": [],
   "source": [
    "unknown_schooling_exp['income_composition'].isna().sum()\n",
    "unknown_schooling_exp.groupby('country').mean() # cant use income composition as all data is missing the same way schooling was"
   ]
  },
  {
   "cell_type": "code",
   "execution_count": null,
   "metadata": {},
   "outputs": [],
   "source": [
    "cluster_df.boxplot(column='life_expectancy', by='schooling_num', rot=45)"
   ]
  },
  {
   "cell_type": "code",
   "execution_count": null,
   "metadata": {},
   "outputs": [],
   "source": [
    "cluster_df[['life_expectancy', 'bmi', 'developed']].isna().sum() # bmi has 32 rows missing in the same way as income_comp\n",
    "cluster_df[cluster_df['bmi'].isna()].groupby('country').mean()\n",
    "cluster_df[cluster_df['country'] == 163] # for both Sudan and South Sudan\n",
    "\n",
    "cluster_df[['life_expectancy', 'adult_mortality', 'developed']].isna().sum() # Use adult mortality instead"
   ]
  },
  {
   "cell_type": "markdown",
   "metadata": {},
   "source": [
    "Remove outliers highlighted from the boxplot"
   ]
  },
  {
   "cell_type": "code",
   "execution_count": null,
   "metadata": {},
   "outputs": [],
   "source": [
    "cluster_df.drop(cluster_df.loc[cluster_df['life_expectancy'] < 40].index, inplace=True)\n",
    "cluster_df.drop(cluster_df.loc[(cluster_df['life_expectancy'] < 55) & (cluster_df['schooling_num'] == 1)].index, inplace=True)\n",
    "cluster_df.drop(cluster_df.loc[(cluster_df['life_expectancy'] < 69) & (cluster_df['schooling_num'] == 2)].index, inplace=True)\n",
    "cluster_df.drop(cluster_df.loc[(cluster_df['life_expectancy'] > 79) & (cluster_df['schooling_num'] == 2)].index, inplace=True)\n",
    "cluster_df.drop(cluster_df.loc[(cluster_df['life_expectancy'] < 65) & (cluster_df['schooling_num'] == 3)].index, inplace=True)"
   ]
  },
  {
   "cell_type": "code",
   "execution_count": null,
   "metadata": {},
   "outputs": [],
   "source": [
    "plt.rcParams['figure.figsize'] = (10, 8)\n",
    "plt.rcParams['font.size'] = 14\n",
    "\n",
    "from matplotlib.colors import ListedColormap\n",
    "cmap_bold = ListedColormap(['#FF0000', '#00FF00', '#0000FF'])\n",
    "\n",
    "cluster_df.plot(kind='scatter', x='life_expectancy', y='adult_mortality', c='schooling_num', colormap=cmap_bold, figsize=(8, 6));"
   ]
  },
  {
   "cell_type": "code",
   "execution_count": null,
   "metadata": {},
   "outputs": [],
   "source": [
    "from sklearn.neighbors import KNeighborsClassifier\n",
    "from sklearn.model_selection import train_test_split\n",
    "from sklearn import metrics\n",
    "\n",
    "X = cluster_df[['life_expectancy', 'adult_mortality', 'developed']]\n",
    "y = cluster_df.schooling_num"
   ]
  },
  {
   "cell_type": "markdown",
   "metadata": {},
   "source": [
    "Find the best number of K for Classification. The error is lowest for a low value of K i.e. 3 for that value the training score is also the highest."
   ]
  },
  {
   "cell_type": "code",
   "execution_count": null,
   "metadata": {},
   "outputs": [],
   "source": [
    "scores = []\n",
    "for k in range(1,100):\n",
    "    knn = KNeighborsClassifier(n_neighbors=k)\n",
    "    knn.fit(X,y)\n",
    "    pred = knn.predict(X)\n",
    "    score = float(sum(pred == y)) / len(y)\n",
    "    scores.append([k, score])\n",
    "    \n",
    "data = pd.DataFrame(scores,columns=['k','score'])\n",
    "data.plot.line(x='k',y='score');"
   ]
  },
  {
   "cell_type": "code",
   "execution_count": null,
   "metadata": {},
   "outputs": [],
   "source": [
    "# Calculate TRAINING ERROR and TESTING ERROR for K=1 through 100.\n",
    "k_range = list(range(1, 101))\n",
    "training_error = []\n",
    "testing_error = []\n",
    "\n",
    "# Find test accuracy for all values of K between 1 and 100 (inclusive).\n",
    "for k in k_range:\n",
    "\n",
    "    # Instantiate the model with the current K value.\n",
    "    knn = KNeighborsClassifier(n_neighbors=k)\n",
    "    knn.fit(X_train, y_train)\n",
    "    \n",
    "    # Calculate training error (error = 1 - accuracy).\n",
    "    y_pred_class = knn.predict(X)\n",
    "    training_accuracy = metrics.accuracy_score(y, y_pred_class)\n",
    "    training_error.append(1 - training_accuracy)\n",
    "    \n",
    "    # Calculate testing error.\n",
    "    y_pred_class = knn.predict(X_test)\n",
    "    testing_accuracy = metrics.accuracy_score(y_test, y_pred_class)\n",
    "    testing_error.append(1 - testing_accuracy)"
   ]
  },
  {
   "cell_type": "code",
   "execution_count": null,
   "metadata": {},
   "outputs": [],
   "source": [
    "# Allow plots to appear in the notebook.\n",
    "%matplotlib inline\n",
    "import matplotlib.pyplot as plt\n",
    "plt.style.use('fivethirtyeight')\n",
    "\n",
    "# Create a DataFrame of K, training error, and testing error.\n",
    "column_dict = {'K': k_range, 'training error':training_error, 'testing error':testing_error}\n",
    "df = pd.DataFrame(column_dict).set_index('K').sort_index(ascending=False)\n",
    "df.head()\n",
    "\n",
    "# Plot the relationship between K (HIGH TO LOW) and TESTING ERROR.\n",
    "df.plot(y='testing error');\n",
    "plt.xlabel('Value of K for KNN');\n",
    "plt.ylabel('Error (lower is better)');"
   ]
  },
  {
   "cell_type": "code",
   "execution_count": null,
   "metadata": {},
   "outputs": [],
   "source": [
    "X = cluster_df[['life_expectancy', 'adult_mortality', 'developed']]\n",
    "y = cluster_df.schooling_num\n",
    "\n",
    "X_train, X_test, y_train, y_test = train_test_split(X, y, random_state=99)\n",
    "\n",
    "knn = KNeighborsClassifier(n_neighbors=3)\n",
    "knn.fit(X_train, y_train)\n",
    "\n",
    "y_pred_class = knn.predict(X_test)\n",
    "print((metrics.accuracy_score(y_test, y_pred_class))) # 70% accuracy"
   ]
  },
  {
   "cell_type": "code",
   "execution_count": null,
   "metadata": {},
   "outputs": [],
   "source": [
    "unknown_df = unknown_schooling_exp[['life_expectancy', 'developed', 'adult_mortality']]\n",
    "unknown_df # use missing schooling info as testing data to predict on"
   ]
  },
  {
   "cell_type": "code",
   "execution_count": null,
   "metadata": {},
   "outputs": [],
   "source": [
    "knn = KNeighborsClassifier(n_neighbors=3)\n",
    "knn.fit(X_train, y_train)\n",
    "    \n",
    "y_pred_class = knn.predict(unknown_df)"
   ]
  },
  {
   "cell_type": "code",
   "execution_count": null,
   "metadata": {},
   "outputs": [],
   "source": [
    "# replace schooling range with average\n",
    "unknown_schooling_exp['schooling'] = y_pred_class\n",
    "unknown_schooling_exp.loc[(unknown_schooling_exp.schooling == 0), 'schooling'] = 5.05\n",
    "unknown_schooling_exp.loc[(unknown_schooling_exp.schooling == 1), 'schooling'] = 11.2\n",
    "unknown_schooling_exp.loc[(unknown_schooling_exp.schooling == 2), 'schooling'] = 13.3\n",
    "unknown_schooling_exp.loc[(unknown_schooling_exp.schooling == 3), 'schooling'] = 17.5\n",
    "unknown_schooling_exp.loc[(unknown_schooling_exp.schooling == 4), 'schooling'] = 20.7\n",
    "\n",
    "# append new data to original life_expectancy df\n",
    "combined_life_exp_df = life_expectancy.copy()\n",
    "combined_life_exp_df.append(unknown_schooling_exp, ignore_index = True)\n",
    "combined_life_exp_df['schooling']"
   ]
  },
  {
   "cell_type": "markdown",
   "metadata": {},
   "source": [
    "Check whether features are still the best to use and then Re-Run Linear Regression"
   ]
  },
  {
   "cell_type": "code",
   "execution_count": null,
   "metadata": {},
   "outputs": [],
   "source": [
    "combined_life_exp_df.corr()"
   ]
  },
  {
   "cell_type": "code",
   "execution_count": null,
   "metadata": {},
   "outputs": [],
   "source": [
    "plt.figure(figsize = (16,16))\n",
    "\n",
    "sns.set_palette(\"coolwarm\", 7)\n",
    "sns.heatmap(combined_life_exp_df.corr(), vmin=-1, vmax=1) #adult mortality # hiv # thinness with le - thinness and adult mortality with schooling"
   ]
  },
  {
   "cell_type": "code",
   "execution_count": null,
   "metadata": {},
   "outputs": [],
   "source": [
    "combined_life_exp_df['thinness_1_19'].isna().sum() # out of all the new features only thinness is missing values\n",
    "\n",
    "combined_life_exp_df[combined_life_exp_df['thinness_1_19'].isna()].groupby('country').mean() # two countries Sudan and South Sudan missing any data"
   ]
  },
  {
   "cell_type": "code",
   "execution_count": null,
   "metadata": {},
   "outputs": [],
   "source": [
    "combined_life_exp_df['income_composition'].isna().sum() # use this instead as next corre\n",
    "schooling_df = combined_life_exp_df.copy()"
   ]
  },
  {
   "cell_type": "code",
   "execution_count": null,
   "metadata": {},
   "outputs": [],
   "source": [
    "run_linreg()"
   ]
  },
  {
   "cell_type": "code",
   "execution_count": null,
   "metadata": {
    "scrolled": true
   },
   "outputs": [],
   "source": [
    "run_test_train_split(0.7, 0.3) # no improvement with new data"
   ]
  },
  {
   "cell_type": "code",
   "execution_count": null,
   "metadata": {},
   "outputs": [],
   "source": [
    "run_test_train_split(0.8, 0.2) # no improvement with new data"
   ]
  },
  {
   "cell_type": "code",
   "execution_count": null,
   "metadata": {},
   "outputs": [],
   "source": [
    "run_test_train_split(0.9, 0.1) # no improvement with new data"
   ]
  },
  {
   "cell_type": "markdown",
   "metadata": {},
   "source": [
    "#### Additional"
   ]
  }
 ],
 "metadata": {
  "kernelspec": {
   "display_name": "Python 3",
   "language": "python",
   "name": "python3"
  },
  "language_info": {
   "codemirror_mode": {
    "name": "ipython",
    "version": 3
   },
   "file_extension": ".py",
   "mimetype": "text/x-python",
   "name": "python",
   "nbconvert_exporter": "python",
   "pygments_lexer": "ipython3",
   "version": "3.8.5"
  }
 },
 "nbformat": 4,
 "nbformat_minor": 4
}
